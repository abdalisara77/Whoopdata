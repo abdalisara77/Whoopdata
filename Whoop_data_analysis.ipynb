{
 "cells": [
  {
   "cell_type": "code",
   "execution_count": null,
   "id": "bc1d55be",
   "metadata": {},
   "outputs": [],
   "source": [
    "from langchain.agents import create_csv_agent\n",
    "from langchain.llms import OpenAI"
   ]
  },
  {
   "cell_type": "code",
   "execution_count": 110,
   "id": "a2f64fb0",
   "metadata": {},
   "outputs": [],
   "source": [
    "import warnings\n",
    "warnings.simplefilter(action='ignore', category=FutureWarning)"
   ]
  },
  {
   "cell_type": "code",
   "execution_count": 92,
   "id": "a2660cdc",
   "metadata": {},
   "outputs": [
    {
     "name": "stdout",
     "output_type": "stream",
     "text": [
      "········\n"
     ]
    }
   ],
   "source": [
    "from getpass import getpass\n",
    "\n",
    "OPENAI_API_KEY = getpass()"
   ]
  },
  {
   "cell_type": "code",
   "execution_count": 93,
   "id": "0829fffa",
   "metadata": {},
   "outputs": [],
   "source": [
    "import os\n",
    "\n",
    "os.environ[\"OPENAI_API_KEY\"] = OPENAI_API_KEY"
   ]
  },
  {
   "cell_type": "markdown",
   "id": "b4983ac0",
   "metadata": {},
   "source": [
    "### Creating a CSV agent to interact with and analyze data"
   ]
  },
  {
   "cell_type": "code",
   "execution_count": 94,
   "id": "ade99d23",
   "metadata": {
    "scrolled": true
   },
   "outputs": [],
   "source": [
    "agent = create_csv_agent(OpenAI(temperature=0),\n",
    "        '/Users/sara/Downloads/my_whoop_data_2023_04_29/physiological_cycles.csv')"
   ]
  },
  {
   "cell_type": "code",
   "execution_count": 11,
   "id": "24a171ce",
   "metadata": {},
   "outputs": [
    {
     "name": "stdout",
     "output_type": "stream",
     "text": [
      "Index(['Cycle start time', 'Cycle end time', 'Cycle timezone',\n",
      "       'Recovery score %', 'Resting heart rate (bpm)',\n",
      "       'Heart rate variability (ms)', 'Skin temp (celsius)', 'Blood oxygen %',\n",
      "       'Day Strain', 'Energy burned (cal)', 'Max HR (bpm)', 'Average HR (bpm)',\n",
      "       'Sleep onset', 'Wake onset', 'Sleep performance %',\n",
      "       'Respiratory rate (rpm)', 'Asleep duration (min)',\n",
      "       'In bed duration (min)', 'Light sleep duration (min)',\n",
      "       'Deep (SWS) duration (min)', 'REM duration (min)',\n",
      "       'Awake duration (min)', 'Sleep need (min)', 'Sleep debt (min)',\n",
      "       'Sleep efficiency %'],\n",
      "      dtype='object')\n"
     ]
    }
   ],
   "source": [
    "ans = agent.run(\"what are the columns in this CSV file?\")"
   ]
  },
  {
   "cell_type": "markdown",
   "id": "99ff57e0",
   "metadata": {},
   "source": [
    "### Creating a Coach LLM\n",
    "We create a prompt asking the coach for data analysis that would help it advise us on how to increase HRV."
   ]
  },
  {
   "cell_type": "code",
   "execution_count": 130,
   "id": "75852f24",
   "metadata": {},
   "outputs": [],
   "source": [
    "coach_llm = OpenAI(temperature=0.9)"
   ]
  },
  {
   "cell_type": "code",
   "execution_count": 131,
   "id": "1defdb39",
   "metadata": {},
   "outputs": [],
   "source": [
    "text = \"You are a fitness coach. You have daily data on my\" + ans + \" for the past 2 weeks. \\\n",
    "You want to give me feedback on how to increase my heart rate variability. \\\n",
    "You can ask a data analyst to do computation on this data for you. \\\n",
    "Give me a list of 4 data analysis questions you would ask to tell me between more exercise, \\\n",
    "more REM sleep, and Max HR, which one has the highest effect on heart rate variability? \\\n",
    "Data analysis can only be in the form of numbers, not charts, or tables.\\\n",
    "Respond to this question in the following form: \\\n",
    "1. \\n\\\n",
    "2. \\n\\\n",
    "3. \\n\\\n",
    "4. \\n \" \n"
   ]
  },
  {
   "cell_type": "code",
   "execution_count": 136,
   "id": "32b70694",
   "metadata": {},
   "outputs": [],
   "source": [
    "plan = coach_llm(text).split(\"\\n\")[1:]"
   ]
  },
  {
   "cell_type": "code",
   "execution_count": 137,
   "id": "835a14da",
   "metadata": {},
   "outputs": [
    {
     "data": {
      "text/plain": [
       "['1. What is the correlation between Max HR and Heart Rate Variability? ',\n",
       " '2. What is the average change in Heart Rate Variability when individuals exercise? ',\n",
       " '3. What is the average change in Heart Rate Variability when individuals have improved REM sleep? ',\n",
       " '4. What is the average change in Heart Rate Variability when individuals increase their average HR?']"
      ]
     },
     "execution_count": 137,
     "metadata": {},
     "output_type": "execute_result"
    }
   ],
   "source": [
    "plan"
   ]
  },
  {
   "cell_type": "markdown",
   "id": "c0ac8cdd",
   "metadata": {},
   "source": [
    "This function creates a feedback loop where the coach can check whether the CSV agent has returned the data it requested."
   ]
  },
  {
   "cell_type": "code",
   "execution_count": 138,
   "id": "ad1fde9e",
   "metadata": {},
   "outputs": [],
   "source": [
    "def confirmResult(i, analysis, plan): \n",
    "    prompt = \"The response to \" + plan[i] + \" is the sentence in the brackets: \\\n",
    "    {\" + analysis + \"}. Is this answer relevant? Answer with `0` if it's not relevant and `1` if it is.\"\n",
    "    ans = int(coach_llm(prompt).replace(\"\\n\", \"\"))\n",
    "    if ans == 0:\n",
    "        new_prompt = \"Reword \" + plan[i] + \" asking for numerical insights.\"\n",
    "        plan[i] = coach_llm(new_prompt)\n",
    "        print(plan[i])\n",
    "        return False\n",
    "    return True\n",
    "    "
   ]
  },
  {
   "cell_type": "markdown",
   "id": "1c9767bb",
   "metadata": {},
   "source": [
    "### The CSV agent executing the plan \n",
    "The agent answers each prompt while getting feedback from the coach. "
   ]
  },
  {
   "cell_type": "code",
   "execution_count": null,
   "id": "85d48045",
   "metadata": {},
   "outputs": [
    {
     "name": "stdout",
     "output_type": "stream",
     "text": [
      "1. What is the correlation between Max HR and Heart Rate Variability? \n",
      "The correlation between Max HR and Heart Rate Variability is 0.28.\n",
      "1\n"
     ]
    }
   ],
   "source": [
    "answers = []\n",
    "for i in range(0,len(plan)): \n",
    "    print(plan[i])\n",
    "    curr_analysis = agent.run(plan[i]) \n",
    "    print(curr_analysis)\n",
    "    if confirmResult(i, curr_analysis, plan) == False: \n",
    "        curr_analysis = agent.run(plan[i]) \n",
    "        print(curr_analysis)\n",
    "    answers.append(agent.run(plan[i]))"
   ]
  },
  {
   "cell_type": "code",
   "execution_count": 140,
   "id": "331e801d",
   "metadata": {},
   "outputs": [],
   "source": [
    "final_prompt = \"You are a health specialist. I will provide you with 4 questions\\\n",
    "related to my health statistics and answers to them. Given this data, \\\n",
    "tell me between more exercise, \\\n",
    "more REM sleep, and Max HR, which one I should increase to improve my HRV and why? Use the numbers provided in the\\\n",
    "in the answer in your reasoning as well as your knowledge on this.\\\n",
    "Questions: \\n\" + \"\".join(plan) + \"\\n Answers: \\n\" + \"\".join(answers)  "
   ]
  },
  {
   "cell_type": "code",
   "execution_count": 141,
   "id": "5c08bc25",
   "metadata": {},
   "outputs": [
    {
     "data": {
      "text/plain": [
       "'\\n\\nGiven this data, I would recommend increasing your Max HR to improve your HRV. This is because increasing your Max HR has the highest correlation with HRV, which indicates the two are strongly correlated. Additionally, the average change in Heart Rate Variability when individuals increase their average HR is -0.5686274509803921, which is lower than the average change in Heart Rate Variability when individuals increase their Max HR. Therefore, increasing your Max HR should result in the most significant improvement to your HRV.'"
      ]
     },
     "execution_count": 141,
     "metadata": {},
     "output_type": "execute_result"
    }
   ],
   "source": [
    "coach_llm(final_prompt)"
   ]
  }
 ],
 "metadata": {
  "kernelspec": {
   "display_name": "Python 3 (ipykernel)",
   "language": "python",
   "name": "python3"
  },
  "language_info": {
   "codemirror_mode": {
    "name": "ipython",
    "version": 3
   },
   "file_extension": ".py",
   "mimetype": "text/x-python",
   "name": "python",
   "nbconvert_exporter": "python",
   "pygments_lexer": "ipython3",
   "version": "3.9.13"
  }
 },
 "nbformat": 4,
 "nbformat_minor": 5
}
